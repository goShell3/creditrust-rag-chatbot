{
 "cells": [
  {
   "cell_type": "markdown",
   "id": "7d665bb7",
   "metadata": {
    "vscode": {
     "languageId": "plaintext"
    }
   },
   "source": [
    "## Intelligent Complaint Analysis\n",
    "\n",
    "This system is designed to analyze customer complaints across the following financial product categories:\n",
    "\n",
    "- **Credit Card**: Includes issues related to billing disputes, unauthorized transactions, APR confusion, and credit limit concerns.\n",
    "- **Personal Loan**: Covers complaints such as hidden fees, unclear loan terms, payment difficulties, and debt collection practices.\n",
    "- **Buy Now, Pay Later (BNPL)**: Focuses on complaints involving payment delays, refund issues, and deceptive interest disclosures.\n",
    "- **Savings Account**: Analyzes concerns related to account freezes, unrecognized withdrawals, interest rate changes, and minimum balance requirements.\n",
    "- **Money Transfer**: Investigates delays, transaction failures, incorrect account deposits, and excessive service charges.\n"
   ]
  },
  {
   "cell_type": "code",
   "execution_count": 2,
   "id": "21f544e0",
   "metadata": {
    "jupyter": {
     "is_executing": true
    }
   },
   "outputs": [
    {
     "ename": "KeyboardInterrupt",
     "evalue": "",
     "output_type": "error",
     "traceback": [
      "\u001b[31m---------------------------------------------------------------------------\u001b[39m",
      "\u001b[31mKeyboardInterrupt\u001b[39m                         Traceback (most recent call last)",
      "\u001b[36mCell\u001b[39m\u001b[36m \u001b[39m\u001b[32mIn[2]\u001b[39m\u001b[32m, line 3\u001b[39m\n\u001b[32m      1\u001b[39m \u001b[38;5;28;01mimport\u001b[39;00m\u001b[38;5;250m \u001b[39m\u001b[34;01mpandas\u001b[39;00m\u001b[38;5;250m \u001b[39m\u001b[38;5;28;01mas\u001b[39;00m\u001b[38;5;250m \u001b[39m\u001b[34;01mpd\u001b[39;00m \n\u001b[32m      2\u001b[39m \u001b[38;5;28;01mimport\u001b[39;00m\u001b[38;5;250m \u001b[39m\u001b[34;01mnumpy\u001b[39;00m\u001b[38;5;250m \u001b[39m\u001b[38;5;28;01mas\u001b[39;00m\u001b[38;5;250m \u001b[39m\u001b[34;01mnp\u001b[39;00m\n\u001b[32m----> \u001b[39m\u001b[32m3\u001b[39m \u001b[38;5;28;01mimport\u001b[39;00m\u001b[38;5;250m \u001b[39m\u001b[34;01mmatplotlib\u001b[39;00m\u001b[34;01m.\u001b[39;00m\u001b[34;01mpylab\u001b[39;00m\u001b[38;5;250m \u001b[39m\u001b[38;5;28;01mas\u001b[39;00m\u001b[38;5;250m \u001b[39m\u001b[34;01mplt\u001b[39;00m \n\u001b[32m      4\u001b[39m \u001b[38;5;28;01mimport\u001b[39;00m\u001b[38;5;250m \u001b[39m\u001b[34;01mseaborn\u001b[39;00m\u001b[38;5;250m \u001b[39m\u001b[38;5;28;01mas\u001b[39;00m\u001b[38;5;250m \u001b[39m\u001b[34;01msns\u001b[39;00m\n",
      "\u001b[36mFile \u001b[39m\u001b[32md:\\CodeFiles\\Kifiya\\week6\\creditrust-rag-chatbot\\venv\\Lib\\site-packages\\matplotlib\\__init__.py:1296\u001b[39m\n\u001b[32m   1292\u001b[39m     rcParams[\u001b[33m'\u001b[39m\u001b[33mbackend_fallback\u001b[39m\u001b[33m'\u001b[39m] = \u001b[38;5;28;01mFalse\u001b[39;00m\n\u001b[32m   1295\u001b[39m \u001b[38;5;28;01mif\u001b[39;00m os.environ.get(\u001b[33m'\u001b[39m\u001b[33mMPLBACKEND\u001b[39m\u001b[33m'\u001b[39m):\n\u001b[32m-> \u001b[39m\u001b[32m1296\u001b[39m     \u001b[43mrcParams\u001b[49m\u001b[43m[\u001b[49m\u001b[33;43m'\u001b[39;49m\u001b[33;43mbackend\u001b[39;49m\u001b[33;43m'\u001b[39;49m\u001b[43m]\u001b[49m = os.environ.get(\u001b[33m'\u001b[39m\u001b[33mMPLBACKEND\u001b[39m\u001b[33m'\u001b[39m)\n\u001b[32m   1299\u001b[39m \u001b[38;5;28;01mdef\u001b[39;00m\u001b[38;5;250m \u001b[39m\u001b[34mget_backend\u001b[39m(*, auto_select=\u001b[38;5;28;01mTrue\u001b[39;00m):\n\u001b[32m   1300\u001b[39m \u001b[38;5;250m    \u001b[39m\u001b[33;03m\"\"\"\u001b[39;00m\n\u001b[32m   1301\u001b[39m \u001b[33;03m    Return the name of the current backend.\u001b[39;00m\n\u001b[32m   1302\u001b[39m \n\u001b[32m   (...)\u001b[39m\u001b[32m   1320\u001b[39m \u001b[33;03m    matplotlib.use\u001b[39;00m\n\u001b[32m   1321\u001b[39m \u001b[33;03m    \"\"\"\u001b[39;00m\n",
      "\u001b[36mFile \u001b[39m\u001b[32md:\\CodeFiles\\Kifiya\\week6\\creditrust-rag-chatbot\\venv\\Lib\\site-packages\\matplotlib\\__init__.py:769\u001b[39m, in \u001b[36mRcParams.__setitem__\u001b[39m\u001b[34m(self, key, val)\u001b[39m\n\u001b[32m    767\u001b[39m             \u001b[38;5;28;01mreturn\u001b[39;00m\n\u001b[32m    768\u001b[39m \u001b[38;5;28;01mtry\u001b[39;00m:\n\u001b[32m--> \u001b[39m\u001b[32m769\u001b[39m     cval = \u001b[38;5;28;43mself\u001b[39;49m\u001b[43m.\u001b[49m\u001b[43mvalidate\u001b[49m\u001b[43m[\u001b[49m\u001b[43mkey\u001b[49m\u001b[43m]\u001b[49m\u001b[43m(\u001b[49m\u001b[43mval\u001b[49m\u001b[43m)\u001b[49m\n\u001b[32m    770\u001b[39m \u001b[38;5;28;01mexcept\u001b[39;00m \u001b[38;5;167;01mValueError\u001b[39;00m \u001b[38;5;28;01mas\u001b[39;00m ve:\n\u001b[32m    771\u001b[39m     \u001b[38;5;28;01mraise\u001b[39;00m \u001b[38;5;167;01mValueError\u001b[39;00m(\u001b[33mf\u001b[39m\u001b[33m\"\u001b[39m\u001b[33mKey \u001b[39m\u001b[38;5;132;01m{\u001b[39;00mkey\u001b[38;5;132;01m}\u001b[39;00m\u001b[33m: \u001b[39m\u001b[38;5;132;01m{\u001b[39;00mve\u001b[38;5;132;01m}\u001b[39;00m\u001b[33m\"\u001b[39m) \u001b[38;5;28;01mfrom\u001b[39;00m\u001b[38;5;250m \u001b[39m\u001b[38;5;28;01mNone\u001b[39;00m\n",
      "\u001b[36mFile \u001b[39m\u001b[32md:\\CodeFiles\\Kifiya\\week6\\creditrust-rag-chatbot\\venv\\Lib\\site-packages\\matplotlib\\rcsetup.py:273\u001b[39m, in \u001b[36mvalidate_backend\u001b[39m\u001b[34m(s)\u001b[39m\n\u001b[32m    272\u001b[39m \u001b[38;5;28;01mdef\u001b[39;00m\u001b[38;5;250m \u001b[39m\u001b[34mvalidate_backend\u001b[39m(s):\n\u001b[32m--> \u001b[39m\u001b[32m273\u001b[39m     \u001b[38;5;28;01mif\u001b[39;00m s \u001b[38;5;129;01mis\u001b[39;00m _auto_backend_sentinel \u001b[38;5;129;01mor\u001b[39;00m \u001b[43mbackend_registry\u001b[49m\u001b[43m.\u001b[49m\u001b[43mis_valid_backend\u001b[49m\u001b[43m(\u001b[49m\u001b[43ms\u001b[49m\u001b[43m)\u001b[49m:\n\u001b[32m    274\u001b[39m         \u001b[38;5;28;01mreturn\u001b[39;00m s\n\u001b[32m    275\u001b[39m     \u001b[38;5;28;01melse\u001b[39;00m:\n",
      "\u001b[36mFile \u001b[39m\u001b[32md:\\CodeFiles\\Kifiya\\week6\\creditrust-rag-chatbot\\venv\\Lib\\site-packages\\matplotlib\\backends\\registry.py:244\u001b[39m, in \u001b[36mBackendRegistry.is_valid_backend\u001b[39m\u001b[34m(self, backend)\u001b[39m\n\u001b[32m    241\u001b[39m     \u001b[38;5;28;01mreturn\u001b[39;00m \u001b[38;5;28;01mTrue\u001b[39;00m\n\u001b[32m    243\u001b[39m \u001b[38;5;66;03m# Only load entry points if really need to and not already done so.\u001b[39;00m\n\u001b[32m--> \u001b[39m\u001b[32m244\u001b[39m \u001b[38;5;28;43mself\u001b[39;49m\u001b[43m.\u001b[49m\u001b[43m_ensure_entry_points_loaded\u001b[49m\u001b[43m(\u001b[49m\u001b[43m)\u001b[49m\n\u001b[32m    245\u001b[39m \u001b[38;5;28;01mif\u001b[39;00m backend \u001b[38;5;129;01min\u001b[39;00m \u001b[38;5;28mself\u001b[39m._backend_to_gui_framework:\n\u001b[32m    246\u001b[39m     \u001b[38;5;28;01mreturn\u001b[39;00m \u001b[38;5;28;01mTrue\u001b[39;00m\n",
      "\u001b[36mFile \u001b[39m\u001b[32md:\\CodeFiles\\Kifiya\\week6\\creditrust-rag-chatbot\\venv\\Lib\\site-packages\\matplotlib\\backends\\registry.py:116\u001b[39m, in \u001b[36mBackendRegistry._ensure_entry_points_loaded\u001b[39m\u001b[34m(self)\u001b[39m\n\u001b[32m    113\u001b[39m \u001b[38;5;28;01mdef\u001b[39;00m\u001b[38;5;250m \u001b[39m\u001b[34m_ensure_entry_points_loaded\u001b[39m(\u001b[38;5;28mself\u001b[39m):\n\u001b[32m    114\u001b[39m     \u001b[38;5;66;03m# Load entry points, if they have not already been loaded.\u001b[39;00m\n\u001b[32m    115\u001b[39m     \u001b[38;5;28;01mif\u001b[39;00m \u001b[38;5;129;01mnot\u001b[39;00m \u001b[38;5;28mself\u001b[39m._loaded_entry_points:\n\u001b[32m--> \u001b[39m\u001b[32m116\u001b[39m         entries = \u001b[38;5;28;43mself\u001b[39;49m\u001b[43m.\u001b[49m\u001b[43m_read_entry_points\u001b[49m\u001b[43m(\u001b[49m\u001b[43m)\u001b[49m\n\u001b[32m    117\u001b[39m         \u001b[38;5;28mself\u001b[39m._validate_and_store_entry_points(entries)\n\u001b[32m    118\u001b[39m         \u001b[38;5;28mself\u001b[39m._loaded_entry_points = \u001b[38;5;28;01mTrue\u001b[39;00m\n",
      "\u001b[36mFile \u001b[39m\u001b[32md:\\CodeFiles\\Kifiya\\week6\\creditrust-rag-chatbot\\venv\\Lib\\site-packages\\matplotlib\\backends\\registry.py:136\u001b[39m, in \u001b[36mBackendRegistry._read_entry_points\u001b[39m\u001b[34m(self)\u001b[39m\n\u001b[32m    128\u001b[39m \u001b[38;5;28;01mdef\u001b[39;00m\u001b[38;5;250m \u001b[39m\u001b[34m_read_entry_points\u001b[39m(\u001b[38;5;28mself\u001b[39m):\n\u001b[32m    129\u001b[39m     \u001b[38;5;66;03m# Read entry points of modules that self-advertise as Matplotlib backends.\u001b[39;00m\n\u001b[32m    130\u001b[39m     \u001b[38;5;66;03m# Expects entry points like this one from matplotlib-inline (in pyproject.toml\u001b[39;00m\n\u001b[32m    131\u001b[39m     \u001b[38;5;66;03m# format):\u001b[39;00m\n\u001b[32m    132\u001b[39m     \u001b[38;5;66;03m#   [project.entry-points.\"matplotlib.backend\"]\u001b[39;00m\n\u001b[32m    133\u001b[39m     \u001b[38;5;66;03m#   inline = \"matplotlib_inline.backend_inline\"\u001b[39;00m\n\u001b[32m    134\u001b[39m     \u001b[38;5;28;01mimport\u001b[39;00m\u001b[38;5;250m \u001b[39m\u001b[34;01mimportlib\u001b[39;00m\u001b[34;01m.\u001b[39;00m\u001b[34;01mmetadata\u001b[39;00m\u001b[38;5;250m \u001b[39m\u001b[38;5;28;01mas\u001b[39;00m\u001b[38;5;250m \u001b[39m\u001b[34;01mim\u001b[39;00m\n\u001b[32m--> \u001b[39m\u001b[32m136\u001b[39m     entry_points = \u001b[43mim\u001b[49m\u001b[43m.\u001b[49m\u001b[43mentry_points\u001b[49m\u001b[43m(\u001b[49m\u001b[43mgroup\u001b[49m\u001b[43m=\u001b[49m\u001b[33;43m\"\u001b[39;49m\u001b[33;43mmatplotlib.backend\u001b[39;49m\u001b[33;43m\"\u001b[39;49m\u001b[43m)\u001b[49m\n\u001b[32m    137\u001b[39m     entries = [(entry.name, entry.value) \u001b[38;5;28;01mfor\u001b[39;00m entry \u001b[38;5;129;01min\u001b[39;00m entry_points]\n\u001b[32m    139\u001b[39m     \u001b[38;5;66;03m# For backward compatibility, if matplotlib-inline and/or ipympl are installed\u001b[39;00m\n\u001b[32m    140\u001b[39m     \u001b[38;5;66;03m# but too old to include entry points, create them. Do not import ipympl\u001b[39;00m\n\u001b[32m    141\u001b[39m     \u001b[38;5;66;03m# directly as this calls matplotlib.use() whilst in this function.\u001b[39;00m\n",
      "\u001b[36mFile \u001b[39m\u001b[32m~\\AppData\\Local\\Programs\\Python\\Python313\\Lib\\importlib\\metadata\\__init__.py:1011\u001b[39m, in \u001b[36mentry_points\u001b[39m\u001b[34m(**params)\u001b[39m\n\u001b[32m   1000\u001b[39m \u001b[38;5;250m\u001b[39m\u001b[33;03m\"\"\"Return EntryPoint objects for all installed packages.\u001b[39;00m\n\u001b[32m   1001\u001b[39m \n\u001b[32m   1002\u001b[39m \u001b[33;03mPass selection parameters (group or name) to filter the\u001b[39;00m\n\u001b[32m   (...)\u001b[39m\u001b[32m   1006\u001b[39m \u001b[33;03m:return: EntryPoints for all installed packages.\u001b[39;00m\n\u001b[32m   1007\u001b[39m \u001b[33;03m\"\"\"\u001b[39;00m\n\u001b[32m   1008\u001b[39m eps = itertools.chain.from_iterable(\n\u001b[32m   1009\u001b[39m     dist.entry_points \u001b[38;5;28;01mfor\u001b[39;00m dist \u001b[38;5;129;01min\u001b[39;00m _unique(distributions())\n\u001b[32m   1010\u001b[39m )\n\u001b[32m-> \u001b[39m\u001b[32m1011\u001b[39m \u001b[38;5;28;01mreturn\u001b[39;00m \u001b[43mEntryPoints\u001b[49m\u001b[43m(\u001b[49m\u001b[43meps\u001b[49m\u001b[43m)\u001b[49m.select(**params)\n",
      "\u001b[36mFile \u001b[39m\u001b[32m~\\AppData\\Local\\Programs\\Python\\Python313\\Lib\\importlib\\metadata\\__init__.py:1009\u001b[39m, in \u001b[36m<genexpr>\u001b[39m\u001b[34m(.0)\u001b[39m\n\u001b[32m    999\u001b[39m \u001b[38;5;28;01mdef\u001b[39;00m\u001b[38;5;250m \u001b[39m\u001b[34mentry_points\u001b[39m(**params) -> EntryPoints:\n\u001b[32m   1000\u001b[39m \u001b[38;5;250m    \u001b[39m\u001b[33;03m\"\"\"Return EntryPoint objects for all installed packages.\u001b[39;00m\n\u001b[32m   1001\u001b[39m \n\u001b[32m   1002\u001b[39m \u001b[33;03m    Pass selection parameters (group or name) to filter the\u001b[39;00m\n\u001b[32m   (...)\u001b[39m\u001b[32m   1006\u001b[39m \u001b[33;03m    :return: EntryPoints for all installed packages.\u001b[39;00m\n\u001b[32m   1007\u001b[39m \u001b[33;03m    \"\"\"\u001b[39;00m\n\u001b[32m   1008\u001b[39m     eps = itertools.chain.from_iterable(\n\u001b[32m-> \u001b[39m\u001b[32m1009\u001b[39m         \u001b[43mdist\u001b[49m\u001b[43m.\u001b[49m\u001b[43mentry_points\u001b[49m \u001b[38;5;28;01mfor\u001b[39;00m dist \u001b[38;5;129;01min\u001b[39;00m _unique(distributions())\n\u001b[32m   1010\u001b[39m     )\n\u001b[32m   1011\u001b[39m     \u001b[38;5;28;01mreturn\u001b[39;00m EntryPoints(eps).select(**params)\n",
      "\u001b[36mFile \u001b[39m\u001b[32m~\\AppData\\Local\\Programs\\Python\\Python313\\Lib\\importlib\\metadata\\__init__.py:496\u001b[39m, in \u001b[36mDistribution.entry_points\u001b[39m\u001b[34m(self)\u001b[39m\n\u001b[32m    488\u001b[39m \u001b[38;5;129m@property\u001b[39m\n\u001b[32m    489\u001b[39m \u001b[38;5;28;01mdef\u001b[39;00m\u001b[38;5;250m \u001b[39m\u001b[34mentry_points\u001b[39m(\u001b[38;5;28mself\u001b[39m) -> EntryPoints:\n\u001b[32m    490\u001b[39m \u001b[38;5;250m    \u001b[39m\u001b[33;03m\"\"\"\u001b[39;00m\n\u001b[32m    491\u001b[39m \u001b[33;03m    Return EntryPoints for this distribution.\u001b[39;00m\n\u001b[32m    492\u001b[39m \n\u001b[32m    493\u001b[39m \u001b[33;03m    Custom providers may provide the ``entry_points.txt`` file\u001b[39;00m\n\u001b[32m    494\u001b[39m \u001b[33;03m    or override this property.\u001b[39;00m\n\u001b[32m    495\u001b[39m \u001b[33;03m    \"\"\"\u001b[39;00m\n\u001b[32m--> \u001b[39m\u001b[32m496\u001b[39m     \u001b[38;5;28;01mreturn\u001b[39;00m EntryPoints._from_text_for(\u001b[38;5;28;43mself\u001b[39;49m\u001b[43m.\u001b[49m\u001b[43mread_text\u001b[49m\u001b[43m(\u001b[49m\u001b[33;43m'\u001b[39;49m\u001b[33;43mentry_points.txt\u001b[39;49m\u001b[33;43m'\u001b[39;49m\u001b[43m)\u001b[49m, \u001b[38;5;28mself\u001b[39m)\n",
      "\u001b[36mFile \u001b[39m\u001b[32m~\\AppData\\Local\\Programs\\Python\\Python313\\Lib\\importlib\\metadata\\__init__.py:915\u001b[39m, in \u001b[36mPathDistribution.read_text\u001b[39m\u001b[34m(self, filename)\u001b[39m\n\u001b[32m    907\u001b[39m \u001b[38;5;28;01mdef\u001b[39;00m\u001b[38;5;250m \u001b[39m\u001b[34mread_text\u001b[39m(\u001b[38;5;28mself\u001b[39m, filename: \u001b[38;5;28mstr\u001b[39m | os.PathLike[\u001b[38;5;28mstr\u001b[39m]) -> Optional[\u001b[38;5;28mstr\u001b[39m]:\n\u001b[32m    908\u001b[39m     \u001b[38;5;28;01mwith\u001b[39;00m suppress(\n\u001b[32m    909\u001b[39m         \u001b[38;5;167;01mFileNotFoundError\u001b[39;00m,\n\u001b[32m    910\u001b[39m         \u001b[38;5;167;01mIsADirectoryError\u001b[39;00m,\n\u001b[32m   (...)\u001b[39m\u001b[32m    913\u001b[39m         \u001b[38;5;167;01mPermissionError\u001b[39;00m,\n\u001b[32m    914\u001b[39m     ):\n\u001b[32m--> \u001b[39m\u001b[32m915\u001b[39m         \u001b[38;5;28;01mreturn\u001b[39;00m \u001b[38;5;28;43mself\u001b[39;49m\u001b[43m.\u001b[49m\u001b[43m_path\u001b[49m\u001b[43m.\u001b[49m\u001b[43mjoinpath\u001b[49m\u001b[43m(\u001b[49m\u001b[43mfilename\u001b[49m\u001b[43m)\u001b[49m\u001b[43m.\u001b[49m\u001b[43mread_text\u001b[49m\u001b[43m(\u001b[49m\u001b[43mencoding\u001b[49m\u001b[43m=\u001b[49m\u001b[33;43m'\u001b[39;49m\u001b[33;43mutf-8\u001b[39;49m\u001b[33;43m'\u001b[39;49m\u001b[43m)\u001b[49m\n\u001b[32m    917\u001b[39m     \u001b[38;5;28;01mreturn\u001b[39;00m \u001b[38;5;28;01mNone\u001b[39;00m\n",
      "\u001b[36mFile \u001b[39m\u001b[32m~\\AppData\\Local\\Programs\\Python\\Python313\\Lib\\pathlib\\_local.py:546\u001b[39m, in \u001b[36mPath.read_text\u001b[39m\u001b[34m(self, encoding, errors, newline)\u001b[39m\n\u001b[32m    543\u001b[39m \u001b[38;5;66;03m# Call io.text_encoding() here to ensure any warning is raised at an\u001b[39;00m\n\u001b[32m    544\u001b[39m \u001b[38;5;66;03m# appropriate stack level.\u001b[39;00m\n\u001b[32m    545\u001b[39m encoding = io.text_encoding(encoding)\n\u001b[32m--> \u001b[39m\u001b[32m546\u001b[39m \u001b[38;5;28;01mreturn\u001b[39;00m \u001b[43mPathBase\u001b[49m\u001b[43m.\u001b[49m\u001b[43mread_text\u001b[49m\u001b[43m(\u001b[49m\u001b[38;5;28;43mself\u001b[39;49m\u001b[43m,\u001b[49m\u001b[43m \u001b[49m\u001b[43mencoding\u001b[49m\u001b[43m,\u001b[49m\u001b[43m \u001b[49m\u001b[43merrors\u001b[49m\u001b[43m,\u001b[49m\u001b[43m \u001b[49m\u001b[43mnewline\u001b[49m\u001b[43m)\u001b[49m\n",
      "\u001b[36mFile \u001b[39m\u001b[32m~\\AppData\\Local\\Programs\\Python\\Python313\\Lib\\pathlib\\_abc.py:632\u001b[39m, in \u001b[36mPathBase.read_text\u001b[39m\u001b[34m(self, encoding, errors, newline)\u001b[39m\n\u001b[32m    628\u001b[39m \u001b[38;5;28;01mdef\u001b[39;00m\u001b[38;5;250m \u001b[39m\u001b[34mread_text\u001b[39m(\u001b[38;5;28mself\u001b[39m, encoding=\u001b[38;5;28;01mNone\u001b[39;00m, errors=\u001b[38;5;28;01mNone\u001b[39;00m, newline=\u001b[38;5;28;01mNone\u001b[39;00m):\n\u001b[32m    629\u001b[39m \u001b[38;5;250m    \u001b[39m\u001b[33;03m\"\"\"\u001b[39;00m\n\u001b[32m    630\u001b[39m \u001b[33;03m    Open the file in text mode, read it, and close the file.\u001b[39;00m\n\u001b[32m    631\u001b[39m \u001b[33;03m    \"\"\"\u001b[39;00m\n\u001b[32m--> \u001b[39m\u001b[32m632\u001b[39m     \u001b[38;5;28;01mwith\u001b[39;00m \u001b[38;5;28;43mself\u001b[39;49m\u001b[43m.\u001b[49m\u001b[43mopen\u001b[49m\u001b[43m(\u001b[49m\u001b[43mmode\u001b[49m\u001b[43m=\u001b[49m\u001b[33;43m'\u001b[39;49m\u001b[33;43mr\u001b[39;49m\u001b[33;43m'\u001b[39;49m\u001b[43m,\u001b[49m\u001b[43m \u001b[49m\u001b[43mencoding\u001b[49m\u001b[43m=\u001b[49m\u001b[43mencoding\u001b[49m\u001b[43m,\u001b[49m\u001b[43m \u001b[49m\u001b[43merrors\u001b[49m\u001b[43m=\u001b[49m\u001b[43merrors\u001b[49m\u001b[43m,\u001b[49m\u001b[43m \u001b[49m\u001b[43mnewline\u001b[49m\u001b[43m=\u001b[49m\u001b[43mnewline\u001b[49m\u001b[43m)\u001b[49m \u001b[38;5;28;01mas\u001b[39;00m f:\n\u001b[32m    633\u001b[39m         \u001b[38;5;28;01mreturn\u001b[39;00m f.read()\n",
      "\u001b[36mFile \u001b[39m\u001b[32m~\\AppData\\Local\\Programs\\Python\\Python313\\Lib\\pathlib\\_local.py:537\u001b[39m, in \u001b[36mPath.open\u001b[39m\u001b[34m(self, mode, buffering, encoding, errors, newline)\u001b[39m\n\u001b[32m    535\u001b[39m \u001b[38;5;28;01mif\u001b[39;00m \u001b[33m\"\u001b[39m\u001b[33mb\u001b[39m\u001b[33m\"\u001b[39m \u001b[38;5;129;01mnot\u001b[39;00m \u001b[38;5;129;01min\u001b[39;00m mode:\n\u001b[32m    536\u001b[39m     encoding = io.text_encoding(encoding)\n\u001b[32m--> \u001b[39m\u001b[32m537\u001b[39m \u001b[38;5;28;01mreturn\u001b[39;00m \u001b[43mio\u001b[49m\u001b[43m.\u001b[49m\u001b[43mopen\u001b[49m\u001b[43m(\u001b[49m\u001b[38;5;28;43mself\u001b[39;49m\u001b[43m,\u001b[49m\u001b[43m \u001b[49m\u001b[43mmode\u001b[49m\u001b[43m,\u001b[49m\u001b[43m \u001b[49m\u001b[43mbuffering\u001b[49m\u001b[43m,\u001b[49m\u001b[43m \u001b[49m\u001b[43mencoding\u001b[49m\u001b[43m,\u001b[49m\u001b[43m \u001b[49m\u001b[43merrors\u001b[49m\u001b[43m,\u001b[49m\u001b[43m \u001b[49m\u001b[43mnewline\u001b[49m\u001b[43m)\u001b[49m\n",
      "\u001b[36mFile \u001b[39m\u001b[32m<frozen codecs>:312\u001b[39m, in \u001b[36m__init__\u001b[39m\u001b[34m(self, errors)\u001b[39m\n",
      "\u001b[31mKeyboardInterrupt\u001b[39m: "
     ]
    }
   ],
   "source": [
    "import pandas as pd \n",
    "import numpy as np\n",
    "import matplotlib.pylab as plt \n",
    "import seaborn as sns"
   ]
  },
  {
   "cell_type": "code",
   "execution_count": 2,
   "id": "ba23c2ea",
   "metadata": {},
   "outputs": [
    {
     "name": "stderr",
     "output_type": "stream",
     "text": [
      "C:\\Users\\herko\\AppData\\Local\\Temp\\ipykernel_16248\\850232263.py:8: DtypeWarning: Columns (16) have mixed types. Specify dtype option on import or set low_memory=False.\n",
      "  df = pd.read_csv(data_path)\n"
     ]
    }
   ],
   "source": [
    "from pathlib import Path\n",
    "\n",
    "# Get project root relative to the current script location\n",
    "BASE_DIR = Path.cwd().parent  # Go up to the project root\n",
    "data_path = BASE_DIR / \"data\" / \"raw\" / \"complaints.csv\"\n",
    "\n",
    "if data_path.exists():\n",
    "    df = pd.read_csv(data_path)\n",
    "else:\n",
    "    raise FileNotFoundError(f\"File not found at {data_path}\")"
   ]
  },
  {
   "cell_type": "code",
   "execution_count": 3,
   "id": "4b064519",
   "metadata": {},
   "outputs": [
    {
     "data": {
      "text/html": [
       "<div>\n",
       "<style scoped>\n",
       "    .dataframe tbody tr th:only-of-type {\n",
       "        vertical-align: middle;\n",
       "    }\n",
       "\n",
       "    .dataframe tbody tr th {\n",
       "        vertical-align: top;\n",
       "    }\n",
       "\n",
       "    .dataframe thead th {\n",
       "        text-align: right;\n",
       "    }\n",
       "</style>\n",
       "<table border=\"1\" class=\"dataframe\">\n",
       "  <thead>\n",
       "    <tr style=\"text-align: right;\">\n",
       "      <th></th>\n",
       "      <th>Date received</th>\n",
       "      <th>Product</th>\n",
       "      <th>Sub-product</th>\n",
       "      <th>Issue</th>\n",
       "      <th>Sub-issue</th>\n",
       "      <th>Consumer complaint narrative</th>\n",
       "      <th>Company public response</th>\n",
       "      <th>Company</th>\n",
       "      <th>State</th>\n",
       "      <th>ZIP code</th>\n",
       "      <th>Tags</th>\n",
       "      <th>Consumer consent provided?</th>\n",
       "      <th>Submitted via</th>\n",
       "      <th>Date sent to company</th>\n",
       "      <th>Company response to consumer</th>\n",
       "      <th>Timely response?</th>\n",
       "      <th>Consumer disputed?</th>\n",
       "      <th>Complaint ID</th>\n",
       "    </tr>\n",
       "  </thead>\n",
       "  <tbody>\n",
       "    <tr>\n",
       "      <th>0</th>\n",
       "      <td>2025-06-20</td>\n",
       "      <td>Credit reporting or other personal consumer re...</td>\n",
       "      <td>Credit reporting</td>\n",
       "      <td>Incorrect information on your report</td>\n",
       "      <td>Information belongs to someone else</td>\n",
       "      <td>NaN</td>\n",
       "      <td>NaN</td>\n",
       "      <td>Experian Information Solutions Inc.</td>\n",
       "      <td>FL</td>\n",
       "      <td>32092</td>\n",
       "      <td>NaN</td>\n",
       "      <td>NaN</td>\n",
       "      <td>Web</td>\n",
       "      <td>2025-06-20</td>\n",
       "      <td>In progress</td>\n",
       "      <td>Yes</td>\n",
       "      <td>NaN</td>\n",
       "      <td>14195687</td>\n",
       "    </tr>\n",
       "    <tr>\n",
       "      <th>1</th>\n",
       "      <td>2025-06-20</td>\n",
       "      <td>Debt collection</td>\n",
       "      <td>Telecommunications debt</td>\n",
       "      <td>Attempts to collect debt not owed</td>\n",
       "      <td>Debt is not yours</td>\n",
       "      <td>NaN</td>\n",
       "      <td>Company can't verify or dispute the facts in t...</td>\n",
       "      <td>Eastern Account Systems of Connecticut, Inc.</td>\n",
       "      <td>FL</td>\n",
       "      <td>342XX</td>\n",
       "      <td>NaN</td>\n",
       "      <td>NaN</td>\n",
       "      <td>Web</td>\n",
       "      <td>2025-06-20</td>\n",
       "      <td>Closed with explanation</td>\n",
       "      <td>Yes</td>\n",
       "      <td>NaN</td>\n",
       "      <td>14195688</td>\n",
       "    </tr>\n",
       "    <tr>\n",
       "      <th>2</th>\n",
       "      <td>2025-06-20</td>\n",
       "      <td>Credit reporting or other personal consumer re...</td>\n",
       "      <td>Credit reporting</td>\n",
       "      <td>Improper use of your report</td>\n",
       "      <td>Reporting company used your report improperly</td>\n",
       "      <td>NaN</td>\n",
       "      <td>NaN</td>\n",
       "      <td>TRANSUNION INTERMEDIATE HOLDINGS, INC.</td>\n",
       "      <td>AZ</td>\n",
       "      <td>85225</td>\n",
       "      <td>NaN</td>\n",
       "      <td>NaN</td>\n",
       "      <td>Web</td>\n",
       "      <td>2025-06-20</td>\n",
       "      <td>In progress</td>\n",
       "      <td>Yes</td>\n",
       "      <td>NaN</td>\n",
       "      <td>14195689</td>\n",
       "    </tr>\n",
       "    <tr>\n",
       "      <th>3</th>\n",
       "      <td>2025-06-20</td>\n",
       "      <td>Credit reporting or other personal consumer re...</td>\n",
       "      <td>Credit reporting</td>\n",
       "      <td>Improper use of your report</td>\n",
       "      <td>Reporting company used your report improperly</td>\n",
       "      <td>NaN</td>\n",
       "      <td>NaN</td>\n",
       "      <td>Experian Information Solutions Inc.</td>\n",
       "      <td>AZ</td>\n",
       "      <td>85225</td>\n",
       "      <td>NaN</td>\n",
       "      <td>NaN</td>\n",
       "      <td>Web</td>\n",
       "      <td>2025-06-20</td>\n",
       "      <td>In progress</td>\n",
       "      <td>Yes</td>\n",
       "      <td>NaN</td>\n",
       "      <td>14195690</td>\n",
       "    </tr>\n",
       "    <tr>\n",
       "      <th>4</th>\n",
       "      <td>2025-06-20</td>\n",
       "      <td>Credit reporting or other personal consumer re...</td>\n",
       "      <td>Credit reporting</td>\n",
       "      <td>Incorrect information on your report</td>\n",
       "      <td>Account status incorrect</td>\n",
       "      <td>NaN</td>\n",
       "      <td>NaN</td>\n",
       "      <td>Experian Information Solutions Inc.</td>\n",
       "      <td>IL</td>\n",
       "      <td>60628</td>\n",
       "      <td>NaN</td>\n",
       "      <td>NaN</td>\n",
       "      <td>Web</td>\n",
       "      <td>2025-06-20</td>\n",
       "      <td>In progress</td>\n",
       "      <td>Yes</td>\n",
       "      <td>NaN</td>\n",
       "      <td>14195692</td>\n",
       "    </tr>\n",
       "  </tbody>\n",
       "</table>\n",
       "</div>"
      ],
      "text/plain": [
       "  Date received                                            Product  \\\n",
       "0    2025-06-20  Credit reporting or other personal consumer re...   \n",
       "1    2025-06-20                                    Debt collection   \n",
       "2    2025-06-20  Credit reporting or other personal consumer re...   \n",
       "3    2025-06-20  Credit reporting or other personal consumer re...   \n",
       "4    2025-06-20  Credit reporting or other personal consumer re...   \n",
       "\n",
       "               Sub-product                                 Issue  \\\n",
       "0         Credit reporting  Incorrect information on your report   \n",
       "1  Telecommunications debt     Attempts to collect debt not owed   \n",
       "2         Credit reporting           Improper use of your report   \n",
       "3         Credit reporting           Improper use of your report   \n",
       "4         Credit reporting  Incorrect information on your report   \n",
       "\n",
       "                                       Sub-issue Consumer complaint narrative  \\\n",
       "0            Information belongs to someone else                          NaN   \n",
       "1                              Debt is not yours                          NaN   \n",
       "2  Reporting company used your report improperly                          NaN   \n",
       "3  Reporting company used your report improperly                          NaN   \n",
       "4                       Account status incorrect                          NaN   \n",
       "\n",
       "                             Company public response  \\\n",
       "0                                                NaN   \n",
       "1  Company can't verify or dispute the facts in t...   \n",
       "2                                                NaN   \n",
       "3                                                NaN   \n",
       "4                                                NaN   \n",
       "\n",
       "                                        Company State ZIP code Tags  \\\n",
       "0           Experian Information Solutions Inc.    FL    32092  NaN   \n",
       "1  Eastern Account Systems of Connecticut, Inc.    FL    342XX  NaN   \n",
       "2        TRANSUNION INTERMEDIATE HOLDINGS, INC.    AZ    85225  NaN   \n",
       "3           Experian Information Solutions Inc.    AZ    85225  NaN   \n",
       "4           Experian Information Solutions Inc.    IL    60628  NaN   \n",
       "\n",
       "  Consumer consent provided? Submitted via Date sent to company  \\\n",
       "0                        NaN           Web           2025-06-20   \n",
       "1                        NaN           Web           2025-06-20   \n",
       "2                        NaN           Web           2025-06-20   \n",
       "3                        NaN           Web           2025-06-20   \n",
       "4                        NaN           Web           2025-06-20   \n",
       "\n",
       "  Company response to consumer Timely response? Consumer disputed?  \\\n",
       "0                  In progress              Yes                NaN   \n",
       "1      Closed with explanation              Yes                NaN   \n",
       "2                  In progress              Yes                NaN   \n",
       "3                  In progress              Yes                NaN   \n",
       "4                  In progress              Yes                NaN   \n",
       "\n",
       "   Complaint ID  \n",
       "0      14195687  \n",
       "1      14195688  \n",
       "2      14195689  \n",
       "3      14195690  \n",
       "4      14195692  "
      ]
     },
     "execution_count": 3,
     "metadata": {},
     "output_type": "execute_result"
    }
   ],
   "source": [
    "df.head()"
   ]
  },
  {
   "cell_type": "code",
   "execution_count": 4,
   "id": "63144200",
   "metadata": {},
   "outputs": [
    {
     "data": {
      "text/html": [
       "<div>\n",
       "<style scoped>\n",
       "    .dataframe tbody tr th:only-of-type {\n",
       "        vertical-align: middle;\n",
       "    }\n",
       "\n",
       "    .dataframe tbody tr th {\n",
       "        vertical-align: top;\n",
       "    }\n",
       "\n",
       "    .dataframe thead th {\n",
       "        text-align: right;\n",
       "    }\n",
       "</style>\n",
       "<table border=\"1\" class=\"dataframe\">\n",
       "  <thead>\n",
       "    <tr style=\"text-align: right;\">\n",
       "      <th></th>\n",
       "      <th>Complaint ID</th>\n",
       "    </tr>\n",
       "  </thead>\n",
       "  <tbody>\n",
       "    <tr>\n",
       "      <th>count</th>\n",
       "      <td>9.609797e+06</td>\n",
       "    </tr>\n",
       "    <tr>\n",
       "      <th>mean</th>\n",
       "      <td>8.092744e+06</td>\n",
       "    </tr>\n",
       "    <tr>\n",
       "      <th>std</th>\n",
       "      <td>3.774842e+06</td>\n",
       "    </tr>\n",
       "    <tr>\n",
       "      <th>min</th>\n",
       "      <td>1.000000e+00</td>\n",
       "    </tr>\n",
       "    <tr>\n",
       "      <th>25%</th>\n",
       "      <td>5.038016e+06</td>\n",
       "    </tr>\n",
       "    <tr>\n",
       "      <th>50%</th>\n",
       "      <td>8.448508e+06</td>\n",
       "    </tr>\n",
       "    <tr>\n",
       "      <th>75%</th>\n",
       "      <td>1.129591e+07</td>\n",
       "    </tr>\n",
       "    <tr>\n",
       "      <th>max</th>\n",
       "      <td>1.423259e+07</td>\n",
       "    </tr>\n",
       "  </tbody>\n",
       "</table>\n",
       "</div>"
      ],
      "text/plain": [
       "       Complaint ID\n",
       "count  9.609797e+06\n",
       "mean   8.092744e+06\n",
       "std    3.774842e+06\n",
       "min    1.000000e+00\n",
       "25%    5.038016e+06\n",
       "50%    8.448508e+06\n",
       "75%    1.129591e+07\n",
       "max    1.423259e+07"
      ]
     },
     "execution_count": 4,
     "metadata": {},
     "output_type": "execute_result"
    }
   ],
   "source": [
    "df.describe()\n",
    "# df.info()"
   ]
  },
  {
   "cell_type": "code",
   "execution_count": 5,
   "id": "945bf856",
   "metadata": {},
   "outputs": [],
   "source": [
    "# NaN count and percentile of the whole data\n",
    "\n",
    "nan_info = pd.DataFrame({\n",
    "    \"missing_count\": df.isna().sum(),\n",
    "    \"missing_percent\": df.isna().mean() * 100\n",
    "})"
   ]
  },
  {
   "cell_type": "code",
   "execution_count": 6,
   "id": "478cf7f0",
   "metadata": {},
   "outputs": [
    {
     "name": "stdout",
     "output_type": "stream",
     "text": [
      "NaN count and Percent: \n",
      "                               missing_count  missing_percent\n",
      "Date received                             0         0.000000\n",
      "Product                                   0         0.000000\n",
      "Sub-product                          235295         2.448491\n",
      "Issue                                     6         0.000062\n",
      "Sub-issue                            839522         8.736105\n",
      "Consumer complaint narrative        6629041        68.982113\n",
      "Company public response             4770207        49.638999\n",
      "Company                                   0         0.000000\n",
      "State                                 54516         0.567296\n",
      "ZIP code                              30228         0.314554\n",
      "Tags                                8981029        93.457011\n",
      "Consumer consent provided?          1649561        17.165409\n",
      "Submitted via                             0         0.000000\n",
      "Date sent to company                      0         0.000000\n",
      "Company response to consumer             20         0.000208\n",
      "Timely response?                          0         0.000000\n",
      "Consumer disputed?                  8841498        92.005044\n",
      "Complaint ID                              0         0.000000\n",
      "\n",
      "Percentiles: \n",
      "                   count          mean           std  min        25%  \\\n",
      "Complaint ID  9609797.0  8.092744e+06  3.774842e+06  1.0  5038016.0   \n",
      "\n",
      "                    50%         75%         90%         95%         max  \n",
      "Complaint ID  8448508.0  11295914.0  13000028.4  13597271.2  14232588.0  \n"
     ]
    }
   ],
   "source": [
    "percentiles = df.describe(percentiles=[.25, .5, .75, .9, .95]).T\n",
    "print(\"NaN count and Percent: \\n\", nan_info)\n",
    "print(\"\\nPercentiles: \\n\", percentiles)"
   ]
  },
  {
   "cell_type": "markdown",
   "id": "40f1e586",
   "metadata": {},
   "source": [
    "### **Summary**\n",
    "NaN count and Missing percent\n",
    "\n",
    "Columns with 0% Missing:\n",
    "- Date received\n",
    "- Product\n",
    "- Company\n",
    "- Submitted via\n",
    "- Date sent to company\n",
    "- Timely response?\n",
    "- Complaint ID\n",
    "\n",
    "Columns with Low Missing ( < 1% )\n",
    "- Sub-product: 2.44%\n",
    "- Issue: 0.00006%\n",
    "- State: 0.56%\n",
    "- ZIP code: 0.31%\n",
    "- Company response to consumer: 0.0002%\n",
    "\n",
    "Moderate Missing (10–50%)\n",
    "- Consumer consent provided?: 17.16%\n",
    "- Company public response: 49.64\n",
    "\n",
    "Very High Missing ( > 50%)\n",
    "- Consumer complaint narrative: 68.98%\n",
    "- Tags: 93.45%\n",
    "- Consumer disputed?: 92.00%"
   ]
  },
  {
   "cell_type": "code",
   "execution_count": 7,
   "id": "e9052419",
   "metadata": {},
   "outputs": [],
   "source": [
    "# sidtribution of caomplaints across different Products \n",
    "product_counts = df['Product'].value_counts()"
   ]
  },
  {
   "cell_type": "code",
   "execution_count": 8,
   "id": "a9630531",
   "metadata": {},
   "outputs": [],
   "source": [
    "# word counts for the consumer complaints narrative \n",
    "df['narrative_word_count'] = df['Consumer complaint narrative'].dropna().apply(lambda x: len(str(x).split()))"
   ]
  },
  {
   "cell_type": "code",
   "execution_count": 9,
   "id": "b0bf6958",
   "metadata": {},
   "outputs": [
    {
     "data": {
      "image/png": "[encoded data removed]",
      "text/plain": [
       "<Figure size 1000x600 with 1 Axes>"
      ]
     },
     "metadata": {},
     "output_type": "display_data"
    }
   ],
   "source": [
    "# Histogram of narrative lengths\n",
    "word_count_plot = df['narrative_word_count'].dropna().plot(kind='hist',\n",
    "                                                            bins=50, figsize=(10, 6), \n",
    "                                                            title='Word Count of Consumer Complaint Narratives')"
   ]
  },
  {
   "cell_type": "code",
   "execution_count": 11,
   "id": "0dc15bbf",
   "metadata": {},
   "outputs": [],
   "source": [
    "# Count complaints with and without narratives\n",
    "with_narrative = df['Consumer complaint narrative'].notna().sum()\n",
    "without_narrative = df['Consumer complaint narrative'].isna().sum()\n"
   ]
  },
  {
   "cell_type": "code",
   "execution_count": 12,
   "id": "d0066f78",
   "metadata": {},
   "outputs": [],
   "source": [
    "# Filter dataset to include only specified products and non-empty narratives\n",
    "target_products = [\n",
    "    \"Credit card\", \"Personal loan\", \n",
    "    \"Buy Now, Pay Later (BNPL)\", \n",
    "    \"Savings account\", \"Money transfers\"\n",
    "]\n",
    "\n",
    "filtered_df = df[\n",
    "    (df['Product'].isin(target_products)) & \n",
    "    (df['Consumer complaint narrative'].notna())\n",
    "].copy()"
   ]
  },
  {
   "cell_type": "code",
   "execution_count": 13,
   "id": "8897ddd8",
   "metadata": {},
   "outputs": [],
   "source": [
    "# Clean the narrative text\n",
    "import re\n",
    "\n",
    "def clean_text(text):\n",
    "    text = text.lower()\n",
    "    text = re.sub(r\"[^a-z0-9\\s]\", \"\", text)  # remove special characters\n",
    "    text = re.sub(r\"\\bi am writing to (file|submit) a complaint.*\", \"\", text)  # remove boilerplate\n",
    "    text = re.sub(r\"\\s+\", \" \", text).strip()\n",
    "    return text"
   ]
  },
  {
   "cell_type": "code",
   "execution_count": 14,
   "id": "9a2e0b79",
   "metadata": {},
   "outputs": [],
   "source": [
    "filtered_df['cleaned_narrative'] = filtered_df['Consumer complaint narrative'].apply(clean_text)\n",
    "\n",
    "# Save the cleaned dataset\n",
    "output_path = \"../data/processed/filtered_complaints.csv\"\n",
    "filtered_df.to_csv(output_path, index=False)"
   ]
  },
  {
   "cell_type": "code",
   "execution_count": 15,
   "id": "bd741805",
   "metadata": {},
   "outputs": [
    {
     "data": {
      "text/plain": [
       "{'initial_row_count': 9609797,\n",
       " 'row_with_narratives': np.int64(2980756),\n",
       " 'row_without_narratives': np.int64(6629041),\n",
       " 'unique_products': 21,\n",
       " 'filtered_row_count': 82164,\n",
       " 'filtered_product_distribution': {'Credit card': 80667,\n",
       "  'Money transfers': 1497}}"
      ]
     },
     "execution_count": 15,
     "metadata": {},
     "output_type": "execute_result"
    }
   ],
   "source": [
    "# Summarize results\n",
    "summary = {\n",
    "    \"initial_row_count\": len(df),\n",
    "    \"row_with_narratives\": with_narrative,\n",
    "    \"row_without_narratives\": without_narrative,\n",
    "    \"unique_products\": df['Product'].nunique(),\n",
    "    \"filtered_row_count\": len(filtered_df),\n",
    "    \"filtered_product_distribution\": filtered_df['Product'].value_counts().to_dict()\n",
    "}\n",
    "\n",
    "summary"
   ]
  },
  {
   "cell_type": "code",
   "execution_count": 3,
   "id": "40819114",
   "metadata": {},
   "outputs": [
    {
     "data": {
      "text/html": [
       "<div>\n",
       "<style scoped>\n",
       "    .dataframe tbody tr th:only-of-type {\n",
       "        vertical-align: middle;\n",
       "    }\n",
       "\n",
       "    .dataframe tbody tr th {\n",
       "        vertical-align: top;\n",
       "    }\n",
       "\n",
       "    .dataframe thead th {\n",
       "        text-align: right;\n",
       "    }\n",
       "</style>\n",
       "<table border=\"1\" class=\"dataframe\">\n",
       "  <thead>\n",
       "    <tr style=\"text-align: right;\">\n",
       "      <th></th>\n",
       "      <th>Date received</th>\n",
       "      <th>Product</th>\n",
       "      <th>Sub-product</th>\n",
       "      <th>Issue</th>\n",
       "      <th>Sub-issue</th>\n",
       "      <th>Consumer complaint narrative</th>\n",
       "      <th>Company public response</th>\n",
       "      <th>Company</th>\n",
       "      <th>State</th>\n",
       "      <th>ZIP code</th>\n",
       "      <th>Tags</th>\n",
       "      <th>Consumer consent provided?</th>\n",
       "      <th>Submitted via</th>\n",
       "      <th>Date sent to company</th>\n",
       "      <th>Company response to consumer</th>\n",
       "      <th>Timely response?</th>\n",
       "      <th>Consumer disputed?</th>\n",
       "      <th>Complaint ID</th>\n",
       "      <th>narrative_word_count</th>\n",
       "      <th>cleaned_narrative</th>\n",
       "    </tr>\n",
       "  </thead>\n",
       "  <tbody>\n",
       "    <tr>\n",
       "      <th>0</th>\n",
       "      <td>2025-06-13</td>\n",
       "      <td>Credit card</td>\n",
       "      <td>Store credit card</td>\n",
       "      <td>Getting a credit card</td>\n",
       "      <td>Card opened without my consent or knowledge</td>\n",
       "      <td>A XXXX XXXX card was opened under my name by a...</td>\n",
       "      <td>Company has responded to the consumer and the ...</td>\n",
       "      <td>CITIBANK, N.A.</td>\n",
       "      <td>TX</td>\n",
       "      <td>78230</td>\n",
       "      <td>Servicemember</td>\n",
       "      <td>Consent provided</td>\n",
       "      <td>Web</td>\n",
       "      <td>2025-06-13</td>\n",
       "      <td>Closed with non-monetary relief</td>\n",
       "      <td>Yes</td>\n",
       "      <td>NaN</td>\n",
       "      <td>14069121</td>\n",
       "      <td>91.0</td>\n",
       "      <td>a xxxx xxxx card was opened under my name by a...</td>\n",
       "    </tr>\n",
       "    <tr>\n",
       "      <th>1</th>\n",
       "      <td>2025-06-12</td>\n",
       "      <td>Credit card</td>\n",
       "      <td>General-purpose credit card or charge card</td>\n",
       "      <td>Other features, terms, or problems</td>\n",
       "      <td>Other problem</td>\n",
       "      <td>Dear CFPB, I have a secured credit card with c...</td>\n",
       "      <td>Company has responded to the consumer and the ...</td>\n",
       "      <td>CITIBANK, N.A.</td>\n",
       "      <td>NY</td>\n",
       "      <td>11220</td>\n",
       "      <td>NaN</td>\n",
       "      <td>Consent provided</td>\n",
       "      <td>Web</td>\n",
       "      <td>2025-06-13</td>\n",
       "      <td>Closed with monetary relief</td>\n",
       "      <td>Yes</td>\n",
       "      <td>NaN</td>\n",
       "      <td>14047085</td>\n",
       "      <td>156.0</td>\n",
       "      <td>dear cfpb i have a secured credit card with ci...</td>\n",
       "    </tr>\n",
       "    <tr>\n",
       "      <th>2</th>\n",
       "      <td>2025-06-12</td>\n",
       "      <td>Credit card</td>\n",
       "      <td>General-purpose credit card or charge card</td>\n",
       "      <td>Incorrect information on your report</td>\n",
       "      <td>Account information incorrect</td>\n",
       "      <td>I have a Citi rewards cards. The credit balanc...</td>\n",
       "      <td>Company has responded to the consumer and the ...</td>\n",
       "      <td>CITIBANK, N.A.</td>\n",
       "      <td>IL</td>\n",
       "      <td>60067</td>\n",
       "      <td>NaN</td>\n",
       "      <td>Consent provided</td>\n",
       "      <td>Web</td>\n",
       "      <td>2025-06-12</td>\n",
       "      <td>Closed with explanation</td>\n",
       "      <td>Yes</td>\n",
       "      <td>NaN</td>\n",
       "      <td>14040217</td>\n",
       "      <td>233.0</td>\n",
       "      <td>i have a citi rewards cards the credit balance...</td>\n",
       "    </tr>\n",
       "    <tr>\n",
       "      <th>3</th>\n",
       "      <td>2025-06-09</td>\n",
       "      <td>Credit card</td>\n",
       "      <td>General-purpose credit card or charge card</td>\n",
       "      <td>Problem with a purchase shown on your statement</td>\n",
       "      <td>Credit card company isn't resolving a dispute ...</td>\n",
       "      <td>b'I am writing to dispute the following charge...</td>\n",
       "      <td>Company has responded to the consumer and the ...</td>\n",
       "      <td>CITIBANK, N.A.</td>\n",
       "      <td>TX</td>\n",
       "      <td>78413</td>\n",
       "      <td>Older American</td>\n",
       "      <td>Consent provided</td>\n",
       "      <td>Web</td>\n",
       "      <td>2025-06-09</td>\n",
       "      <td>Closed with monetary relief</td>\n",
       "      <td>Yes</td>\n",
       "      <td>NaN</td>\n",
       "      <td>13968411</td>\n",
       "      <td>454.0</td>\n",
       "      <td>bi am writing to dispute the following charges...</td>\n",
       "    </tr>\n",
       "    <tr>\n",
       "      <th>4</th>\n",
       "      <td>2025-06-09</td>\n",
       "      <td>Credit card</td>\n",
       "      <td>General-purpose credit card or charge card</td>\n",
       "      <td>Problem when making payments</td>\n",
       "      <td>Problem during payment process</td>\n",
       "      <td>Although the account had been deemed closed, I...</td>\n",
       "      <td>Company believes it acted appropriately as aut...</td>\n",
       "      <td>Atlanticus Services Corporation</td>\n",
       "      <td>NY</td>\n",
       "      <td>11212</td>\n",
       "      <td>Older American</td>\n",
       "      <td>Consent provided</td>\n",
       "      <td>Web</td>\n",
       "      <td>2025-06-09</td>\n",
       "      <td>Closed with monetary relief</td>\n",
       "      <td>Yes</td>\n",
       "      <td>NaN</td>\n",
       "      <td>13965746</td>\n",
       "      <td>170.0</td>\n",
       "      <td>although the account had been deemed closed i ...</td>\n",
       "    </tr>\n",
       "  </tbody>\n",
       "</table>\n",
       "</div>"
      ],
      "text/plain": [
       "  Date received      Product                                 Sub-product  \\\n",
       "0    2025-06-13  Credit card                           Store credit card   \n",
       "1    2025-06-12  Credit card  General-purpose credit card or charge card   \n",
       "2    2025-06-12  Credit card  General-purpose credit card or charge card   \n",
       "3    2025-06-09  Credit card  General-purpose credit card or charge card   \n",
       "4    2025-06-09  Credit card  General-purpose credit card or charge card   \n",
       "\n",
       "                                             Issue  \\\n",
       "0                            Getting a credit card   \n",
       "1               Other features, terms, or problems   \n",
       "2             Incorrect information on your report   \n",
       "3  Problem with a purchase shown on your statement   \n",
       "4                     Problem when making payments   \n",
       "\n",
       "                                           Sub-issue  \\\n",
       "0        Card opened without my consent or knowledge   \n",
       "1                                      Other problem   \n",
       "2                      Account information incorrect   \n",
       "3  Credit card company isn't resolving a dispute ...   \n",
       "4                     Problem during payment process   \n",
       "\n",
       "                        Consumer complaint narrative  \\\n",
       "0  A XXXX XXXX card was opened under my name by a...   \n",
       "1  Dear CFPB, I have a secured credit card with c...   \n",
       "2  I have a Citi rewards cards. The credit balanc...   \n",
       "3  b'I am writing to dispute the following charge...   \n",
       "4  Although the account had been deemed closed, I...   \n",
       "\n",
       "                             Company public response  \\\n",
       "0  Company has responded to the consumer and the ...   \n",
       "1  Company has responded to the consumer and the ...   \n",
       "2  Company has responded to the consumer and the ...   \n",
       "3  Company has responded to the consumer and the ...   \n",
       "4  Company believes it acted appropriately as aut...   \n",
       "\n",
       "                           Company State ZIP code            Tags  \\\n",
       "0                   CITIBANK, N.A.    TX    78230   Servicemember   \n",
       "1                   CITIBANK, N.A.    NY    11220             NaN   \n",
       "2                   CITIBANK, N.A.    IL    60067             NaN   \n",
       "3                   CITIBANK, N.A.    TX    78413  Older American   \n",
       "4  Atlanticus Services Corporation    NY    11212  Older American   \n",
       "\n",
       "  Consumer consent provided? Submitted via Date sent to company  \\\n",
       "0           Consent provided           Web           2025-06-13   \n",
       "1           Consent provided           Web           2025-06-13   \n",
       "2           Consent provided           Web           2025-06-12   \n",
       "3           Consent provided           Web           2025-06-09   \n",
       "4           Consent provided           Web           2025-06-09   \n",
       "\n",
       "      Company response to consumer Timely response? Consumer disputed?  \\\n",
       "0  Closed with non-monetary relief              Yes                NaN   \n",
       "1      Closed with monetary relief              Yes                NaN   \n",
       "2          Closed with explanation              Yes                NaN   \n",
       "3      Closed with monetary relief              Yes                NaN   \n",
       "4      Closed with monetary relief              Yes                NaN   \n",
       "\n",
       "   Complaint ID  narrative_word_count  \\\n",
       "0      14069121                  91.0   \n",
       "1      14047085                 156.0   \n",
       "2      14040217                 233.0   \n",
       "3      13968411                 454.0   \n",
       "4      13965746                 170.0   \n",
       "\n",
       "                                   cleaned_narrative  \n",
       "0  a xxxx xxxx card was opened under my name by a...  \n",
       "1  dear cfpb i have a secured credit card with ci...  \n",
       "2  i have a citi rewards cards the credit balance...  \n",
       "3  bi am writing to dispute the following charges...  \n",
       "4  although the account had been deemed closed i ...  "
      ]
     },
     "execution_count": 3,
     "metadata": {},
     "output_type": "execute_result"
    }
   ],
   "source": [
    "# load filtered_data\n",
    "filtered_ddf = pd.read_csv(\"../data/processed/filtered_complaints.csv\")\n",
    "filtered_ddf.head()"
   ]
  },
  {
   "cell_type": "code",
   "execution_count": 4,
   "id": "3716623c",
   "metadata": {},
   "outputs": [
    {
     "name": "stderr",
     "output_type": "stream",
     "text": [
      "d:\\CodeFiles\\Kifiya\\week6\\creditrust-rag-chatbot\\venv\\Lib\\site-packages\\tqdm\\auto.py:21: TqdmWarning: IProgress not found. Please update jupyter and ipywidgets. See https://ipywidgets.readthedocs.io/en/stable/user_install.html\n",
      "  from .autonotebook import tqdm as notebook_tqdm\n"
     ]
    }
   ],
   "source": [
    "from sentence_transformers import SentenceTransformer\n",
    "from langchain.text_splitter import RecursiveCharacterTextSplitter\n",
    "import chromadb\n",
    "from chromadb.config import Settings"
   ]
  },
  {
   "cell_type": "code",
   "execution_count": 6,
   "id": "01ee9441",
   "metadata": {},
   "outputs": [
    {
     "data": {
      "text/plain": [
       "<langchain_text_splitters.character.RecursiveCharacterTextSplitter at 0x12e734fee90>"
      ]
     },
     "execution_count": 6,
     "metadata": {},
     "output_type": "execute_result"
    }
   ],
   "source": [
    "text_splitter = RecursiveCharacterTextSplitter(\n",
    "    chunk_size=300,       # Chosen to balance context and embedding performance\n",
    "    chunk_overlap=50,     # Helps preserve context across splits\n",
    "    separators=[\"\\n\\n\", \"\\n\", \".\", \"!\", \"?\", \" \"]\n",
    ")\n",
    "\n",
    "text_splitter\n"
   ]
  },
  {
   "cell_type": "code",
   "execution_count": 9,
   "id": "0d813075",
   "metadata": {},
   "outputs": [
    {
     "name": "stdout",
     "output_type": "stream",
     "text": [
      "<class 'pandas.core.frame.DataFrame'>\n",
      "RangeIndex: 82164 entries, 0 to 82163\n",
      "Data columns (total 20 columns):\n",
      " #   Column                        Non-Null Count  Dtype  \n",
      "---  ------                        --------------  -----  \n",
      " 0   Date received                 82164 non-null  object \n",
      " 1   Product                       82164 non-null  object \n",
      " 2   Sub-product                   63327 non-null  object \n",
      " 3   Issue                         82164 non-null  object \n",
      " 4   Sub-issue                     61770 non-null  object \n",
      " 5   Consumer complaint narrative  82164 non-null  object \n",
      " 6   Company public response       39566 non-null  object \n",
      " 7   Company                       82164 non-null  object \n",
      " 8   State                         81857 non-null  object \n",
      " 9   ZIP code                      82164 non-null  object \n",
      " 10  Tags                          14889 non-null  object \n",
      " 11  Consumer consent provided?    82164 non-null  object \n",
      " 12  Submitted via                 82164 non-null  object \n",
      " 13  Date sent to company          82164 non-null  object \n",
      " 14  Company response to consumer  82164 non-null  object \n",
      " 15  Timely response?              82164 non-null  object \n",
      " 16  Consumer disputed?            20334 non-null  object \n",
      " 17  Complaint ID                  82164 non-null  int64  \n",
      " 18  narrative_word_count          82164 non-null  float64\n",
      " 19  cleaned_narrative             82136 non-null  object \n",
      "dtypes: float64(1), int64(1), object(18)\n",
      "memory usage: 12.5+ MB\n"
     ]
    }
   ],
   "source": [
    "filtered_ddf.info()"
   ]
  },
  {
   "cell_type": "code",
   "execution_count": 12,
   "id": "b2d55469",
   "metadata": {},
   "outputs": [
    {
     "name": "stdout",
     "output_type": "stream",
     "text": [
      "Date received                       0\n",
      "Product                             0\n",
      "Sub-product                     18837\n",
      "Issue                               0\n",
      "Sub-issue                       20394\n",
      "Consumer complaint narrative        0\n",
      "Company public response         42598\n",
      "Company                             0\n",
      "State                             307\n",
      "ZIP code                            0\n",
      "Tags                            67275\n",
      "Consumer consent provided?          0\n",
      "Submitted via                       0\n",
      "Date sent to company                0\n",
      "Company response to consumer        0\n",
      "Timely response?                    0\n",
      "Consumer disputed?              61830\n",
      "Complaint ID                        0\n",
      "narrative_word_count                0\n",
      "cleaned_narrative                   0\n",
      "dtype: int64\n"
     ]
    }
   ],
   "source": [
    "print(filtered_ddf.isnull().sum())"
   ]
  },
  {
   "cell_type": "code",
   "execution_count": null,
   "id": "7a093148",
   "metadata": {},
   "outputs": [
    {
     "name": "stdout",
     "output_type": "stream",
     "text": [
      "Total text chunks: 378614\n"
     ]
    }
   ],
   "source": [
    "documents = []\n",
    "metadatas = []\n",
    "\n",
    "filtered_ddf['Product'] = filtered_ddf['Product'].astype('category')\n",
    "\n",
    "\n",
    "filtered_ddf['Complaint ID'] = filtered_ddf['Complaint ID'].astype(str)\n",
    "\n",
    "filtered_ddf['cleaned_narrative'] = filtered_ddf['cleaned_narrative'].fillna('').astype(str)\n",
    "\n",
    "for idx, row in filtered_ddf.iterrows():\n",
    "    chunks = text_splitter.split_text(row['cleaned_narrative'])\n",
    "    for i, chunk in enumerate(chunks):\n",
    "        documents.append(chunk)\n",
    "        metadatas.append({\n",
    "            \"complaint_id\": row['Complaint ID'],\n",
    "            \"product\": row['Product'],\n",
    "            \"chunk_index\": i\n",
    "        })\n",
    "\n",
    "print(f\"Total text chunks: {len(documents)}\")"
   ]
  },
  {
   "cell_type": "code",
   "execution_count": 16,
   "id": "8af7a09d",
   "metadata": {},
   "outputs": [],
   "source": [
    "model_name = \"sentence-transformers/all-MiniLM-L6-v2\"\n",
    "embedder = SentenceTransformer(model_name)"
   ]
  },
  {
   "cell_type": "code",
   "execution_count": null,
   "id": "80933b01",
   "metadata": {},
   "outputs": [
    {
     "name": "stderr",
     "output_type": "stream",
     "text": [
      "Batches:  20%|█▉        | 2345/11832 [10:11<38:27,  4.11it/s]  "
     ]
    }
   ],
   "source": [
    "import os\n",
    "\n",
    "embeddings = embedder.encode(documents, show_progress_bar=True, convert_to_numpy=True)\n",
    "\n",
    "# Index in Chroma Vector Store\n",
    "persist_path = \"vector_store/chroma_db\"\n",
    "os.makedirs(persist_path, exist_ok=True)\n",
    "\n",
    "chroma_client = chromadb.PersistentClient(path=persist_path)\n",
    "collection = chroma_client.get_or_create_collection(name=\"complaint_chunks\")"
   ]
  },
  {
   "cell_type": "code",
   "execution_count": null,
   "id": "9085dfbe",
   "metadata": {},
   "outputs": [
    {
     "name": "stdout",
     "output_type": "stream",
     "text": [
      "Total text chunks: 378614\n"
     ]
    },
    {
     "name": "stderr",
     "output_type": "stream",
     "text": [
      "Uploading to Chroma:   0%|          | 0/76 [00:00<?, ?it/s]\n"
     ]
    },
    {
     "ename": "NameError",
     "evalue": "name 'ids' is not defined",
     "output_type": "error",
     "traceback": [
      "\u001b[31m---------------------------------------------------------------------------\u001b[39m",
      "\u001b[31mNameError\u001b[39m                                 Traceback (most recent call last)",
      "\u001b[36mCell\u001b[39m\u001b[36m \u001b[39m\u001b[32mIn[15]\u001b[39m\u001b[32m, line 10\u001b[39m\n\u001b[32m      8\u001b[39m \u001b[38;5;28;01mfor\u001b[39;00m i \u001b[38;5;129;01min\u001b[39;00m tqdm(\u001b[38;5;28mrange\u001b[39m(\u001b[32m0\u001b[39m, total_chunks, batch_size), desc=\u001b[33m\"\u001b[39m\u001b[33mUploading to Chroma\u001b[39m\u001b[33m\"\u001b[39m):\n\u001b[32m      9\u001b[39m     batch_docs = documents[i:i+batch_size]\n\u001b[32m---> \u001b[39m\u001b[32m10\u001b[39m     batch_ids = \u001b[43mids\u001b[49m[i:i+batch_size]\n\u001b[32m     11\u001b[39m     batch_metadatas = metadatas[i:i+batch_size]\n\u001b[32m     13\u001b[39m     collection.add(\n\u001b[32m     14\u001b[39m         documents=batch_docs,\n\u001b[32m     15\u001b[39m         ids=batch_ids,\n\u001b[32m     16\u001b[39m         metadatas=batch_metadatas\n\u001b[32m     17\u001b[39m     )\n",
      "\u001b[31mNameError\u001b[39m: name 'ids' is not defined"
     ]
    }
   ],
   "source": [
    "from tqdm import tqdm\n",
    "\n",
    "ids = [f\"chunk_{i}\" for i in range(len(documents))]\n",
    "\n",
    "\n",
    "batch_size = 5000  # Safe margin under 5461\n",
    "total_chunks = len(documents)  # Make sure `documents`, `ids`, `metadatas` are all same length\n",
    "\n",
    "print(f\"Total text chunks: {total_chunks}\")\n",
    "\n",
    "for i in tqdm(range(0, total_chunks, batch_size), desc=\"Uploading to Chroma\"):\n",
    "    batch_docs = documents[i:i+batch_size]\n",
    "    batch_ids = ids[i:i+batch_size]\n",
    "    batch_metadatas = metadatas[i:i+batch_size]\n",
    "\n",
    "    collection.add(\n",
    "        documents=batch_docs,\n",
    "        ids=batch_ids,\n",
    "        metadatas=batch_metadatas\n",
    "    )"
   ]
  },
  {
   "cell_type": "code",
   "execution_count": 13,
   "id": "8ade1fdb",
   "metadata": {},
   "outputs": [
    {
     "ename": "NameError",
     "evalue": "name 'df' is not defined",
     "output_type": "error",
     "traceback": [
      "\u001b[31m---------------------------------------------------------------------------\u001b[39m",
      "\u001b[31mNameError\u001b[39m                                 Traceback (most recent call last)",
      "\u001b[36mCell\u001b[39m\u001b[36m \u001b[39m\u001b[32mIn[13]\u001b[39m\u001b[32m, line 1\u001b[39m\n\u001b[32m----> \u001b[39m\u001b[32m1\u001b[39m documents = \u001b[43mdf\u001b[49m[\u001b[33m'\u001b[39m\u001b[33mchunk_text\u001b[39m\u001b[33m'\u001b[39m].fillna(\u001b[33m\"\u001b[39m\u001b[33m\"\u001b[39m).tolist()\n\u001b[32m      2\u001b[39m ids = df[\u001b[33m'\u001b[39m\u001b[33mchunk_id\u001b[39m\u001b[33m'\u001b[39m].astype(\u001b[38;5;28mstr\u001b[39m).tolist()\n\u001b[32m      3\u001b[39m metadatas = df[\u001b[33m'\u001b[39m\u001b[33mmetadata\u001b[39m\u001b[33m'\u001b[39m].to_dict(orient=\u001b[33m'\u001b[39m\u001b[33mrecords\u001b[39m\u001b[33m'\u001b[39m)\n",
      "\u001b[31mNameError\u001b[39m: name 'df' is not defined"
     ]
    }
   ],
   "source": [
    "documents = df['chunk_text'].fillna(\"\").tolist()\n",
    "ids = df['chunk_id'].astype(str).tolist()\n",
    "metadatas = df['metadata'].to_dict(orient='records')\n"
   ]
  },
  {
   "cell_type": "code",
   "execution_count": null,
   "id": "01591c2a",
   "metadata": {},
   "outputs": [],
   "source": []
  }
 ],
 "metadata": {
  "kernelspec": {
   "display_name": "venv",
   "language": "python",
   "name": "python3"
  },
  "language_info": {
   "codemirror_mode": {
    "name": "ipython",
    "version": 3
   },
   "file_extension": ".py",
   "mimetype": "text/x-python",
   "name": "python",
   "nbconvert_exporter": "python",
   "pygments_lexer": "ipython3",
   "version": "3.13.1"
  }
 },
 "nbformat": 4,
 "nbformat_minor": 5
}
