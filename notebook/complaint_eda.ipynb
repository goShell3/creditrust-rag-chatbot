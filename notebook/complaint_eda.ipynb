{
 "cells": [
  {
   "cell_type": "markdown",
   "id": "7d665bb7",
   "metadata": {
    "vscode": {
     "languageId": "plaintext"
    }
   },
   "source": [
    "## Intelligent Complaint Analysis\n",
    "\n",
    "This system is designed to analyze customer complaints across the following financial product categories:\n",
    "\n",
    "- **Credit Card**: Includes issues related to billing disputes, unauthorized transactions, APR confusion, and credit limit concerns.\n",
    "- **Personal Loan**: Covers complaints such as hidden fees, unclear loan terms, payment difficulties, and debt collection practices.\n",
    "- **Buy Now, Pay Later (BNPL)**: Focuses on complaints involving payment delays, refund issues, and deceptive interest disclosures.\n",
    "- **Savings Account**: Analyzes concerns related to account freezes, unrecognized withdrawals, interest rate changes, and minimum balance requirements.\n",
    "- **Money Transfer**: Investigates delays, transaction failures, incorrect account deposits, and excessive service charges.\n"
   ]
  },
  {
   "cell_type": "code",
   "execution_count": null,
   "id": "21f544e0",
   "metadata": {
    "jupyter": {
     "is_executing": true
    }
   },
   "outputs": [
    {
     "ename": "",
     "evalue": "",
     "output_type": "error",
     "traceback": [
      "\u001b[1;31mFailed to start the Kernel. \n",
      "\u001b[1;31mUnable to start Kernel 'venv (Python 3.13.1)' due to a timeout waiting for the ports to get used. \n",
      "\u001b[1;31mView Jupyter <a href='command:jupyter.viewOutput'>log</a> for further details."
     ]
    }
   ],
   "source": [
    "import pandas as pd \n",
    "import numpy as np\n",
    "import matplotlib.pylab as plt \n",
    "import seaborn as sns"
   ]
  },
  {
   "cell_type": "code",
   "execution_count": null,
   "id": "ba23c2ea",
   "metadata": {},
   "outputs": [],
   "source": [
    "from pathlib import Path\n",
    "\n",
    "# Get project root relative to the current script location\n",
    "BASE_DIR = Path.cwd()\n",
    "data_path = BASE_DIR / \"data\" / \"raw\" / \"complaints.csv\"\n",
    "\n",
    "df = pd.read_csv(data_path)"
   ]
  },
  {
   "cell_type": "code",
   "execution_count": null,
   "id": "4b064519",
   "metadata": {},
   "outputs": [],
   "source": [
    "df.head()"
   ]
  },
  {
   "cell_type": "code",
   "execution_count": null,
   "id": "63144200",
   "metadata": {},
   "outputs": [],
   "source": [
    "df.describe()\n",
    "# df.info()"
   ]
  },
  {
   "cell_type": "code",
   "execution_count": null,
   "id": "945bf856",
   "metadata": {},
   "outputs": [],
   "source": [
    "# NaN count and percentile of the whole data\n",
    "\n",
    "nan_info = pd.DataFrame({\n",
    "    \"missing_count\": df.isna().sum(),\n",
    "    \"missing_percent\": df.isna().mean() * 100\n",
    "})"
   ]
  },
  {
   "cell_type": "code",
   "execution_count": null,
   "id": "478cf7f0",
   "metadata": {},
   "outputs": [],
   "source": [
    "percentiles = df.describe(percentiles=[.25, .5, .75, .9, .95]).T\n",
    "print(\"NaN count and Percent: \\n\", nan_info)\n",
    "print(\"\\nPercentiles: \\n\", percentiles)"
   ]
  },
  {
   "cell_type": "markdown",
   "id": "40f1e586",
   "metadata": {},
   "source": [
    "### **Summary**\n",
    "NaN count and Missing percent\n",
    "\n",
    "Columns with 0% Missing:\n",
    "- Date received\n",
    "- Product\n",
    "- Company\n",
    "- Submitted via\n",
    "- Date sent to company\n",
    "- Timely response?\n",
    "- Complaint ID\n",
    "\n",
    "Columns with Low Missing ( < 1% )\n",
    "- Sub-product: 2.44%\n",
    "- Issue: 0.00006%\n",
    "- State: 0.56%\n",
    "- ZIP code: 0.31%\n",
    "- Company response to consumer: 0.0002%\n",
    "\n",
    "Moderate Missing (10–50%)\n",
    "- Consumer consent provided?: 17.16%\n",
    "- Company public response: 49.64\n",
    "\n",
    "Very High Missing ( > 50%)\n",
    "- Consumer complaint narrative: 68.98%\n",
    "- Tags: 93.45%\n",
    "- Consumer disputed?: 92.00%"
   ]
  },
  {
   "cell_type": "code",
   "execution_count": null,
   "id": "bd2b9865",
   "metadata": {},
   "outputs": [],
   "source": [
    "# Visualize missing Values\n",
    "plt.figure(figsize=(8,8)) \n",
    "sns.heatmap(df.isnull(), cbar=False, cmap=\"viridis\")\n",
    "plt.title(\"Missing values heatmap\")\n",
    "plt.show()"
   ]
  }
 ],
 "metadata": {
  "kernelspec": {
   "display_name": "venv",
   "language": "python",
   "name": "python3"
  },
  "language_info": {
   "name": "python",
   "version": "3.13.1"
  }
 },
 "nbformat": 4,
 "nbformat_minor": 5
}
